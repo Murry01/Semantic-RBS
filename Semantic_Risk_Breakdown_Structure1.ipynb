{
  "cells": [
    {
      "cell_type": "code",
      "execution_count": 1,
      "metadata": {
        "colab": {
          "base_uri": "https://localhost:8080/"
        },
        "id": "9ysPsZWpUl8I",
        "outputId": "48b22877-cc4a-4798-d6e9-bcea4c4f8406"
      },
      "outputs": [
        {
          "output_type": "stream",
          "name": "stdout",
          "text": [
            "Collecting anytree\n",
            "  Downloading anytree-2.8.0-py2.py3-none-any.whl (41 kB)\n",
            "\u001b[?25l\r\u001b[K     |███████▉                        | 10 kB 23.2 MB/s eta 0:00:01\r\u001b[K     |███████████████▊                | 20 kB 28.6 MB/s eta 0:00:01\r\u001b[K     |███████████████████████▋        | 30 kB 29.1 MB/s eta 0:00:01\r\u001b[K     |███████████████████████████████▍| 40 kB 26.9 MB/s eta 0:00:01\r\u001b[K     |████████████████████████████████| 41 kB 600 kB/s \n",
            "\u001b[?25hRequirement already satisfied: six>=1.9.0 in /usr/local/lib/python3.7/dist-packages (from anytree) (1.15.0)\n",
            "Installing collected packages: anytree\n",
            "Successfully installed anytree-2.8.0\n"
          ]
        }
      ],
      "source": [
        "!pip install anytree"
      ]
    },
    {
      "cell_type": "code",
      "source": [
        "from anytree import Node, RenderTree"
      ],
      "metadata": {
        "id": "T2LcuYs_4MZq"
      },
      "execution_count": 2,
      "outputs": []
    },
    {
      "cell_type": "code",
      "execution_count": 4,
      "metadata": {
        "id": "82hwWPXS2YnA"
      },
      "outputs": [],
      "source": [
        "# Root Node\n",
        "# level_1 ##########################################\n",
        "Bridge_Project_Risk = Node(\"Bridge project risks\")"
      ]
    },
    {
      "cell_type": "code",
      "source": [
        "# Parent Node\n",
        "# level_2 #########################################\n",
        "I_Risk = Node(\"Internal Risks\", parent=Bridge_Project_Risk )\n",
        "E_Risk = Node(\"External Risks\", parent=Bridge_Project_Risk )\n"
      ],
      "metadata": {
        "id": "TtQAWOwJ4QJ-"
      },
      "execution_count": 5,
      "outputs": []
    },
    {
      "cell_type": "code",
      "source": [
        "# Child Node\n",
        "# level_3 #########################################\n",
        "Cons_Risk = Node(\"Construction Risks\", parent=I_Risk)\n",
        "ME_Risk = Node(\"Materials and Equipment Risks\", parent=I_Risk)\n",
        "CM_Risk = Node(\"Construction Management Risks\", parent=I_Risk)\n",
        "D_Risk = Node(\"Design Risks\", parent=I_Risk)\n",
        "Ins_Risk = Node(\"Insurance Risks\", parent=I_Risk)\n",
        "Cont_Risk = Node(\"Contractual Risks\", parent=I_Risk)\n",
        "PM_Risk = Node(\"Project Managament Risks\", parent=I_Risk)\n",
        "TM_Risk = Node(\"Time Management Risks\", parent=I_Risk)\n",
        "HR_Risk = Node(\"Human Resourses\", parent=I_Risk)\n",
        "\n",
        "Env_Risk = Node(\"Environmental Risks\", parent=E_Risk)\n",
        "Eco_Risk = Node(\"Economic Risks\", parent=E_Risk)"
      ],
      "metadata": {
        "id": "CtiyixbK5POc"
      },
      "execution_count": 6,
      "outputs": []
    },
    {
      "cell_type": "code",
      "source": [
        "# Leaf\n",
        "# level_4 #########################################\n",
        "BR1 = Node(\"Falling to the ground during equipment transportation\", parent=Cons_Risk)\n",
        "BR2 = Node(\"Incorrect installation of drill frame\", parent=Cons_Risk)\n",
        "BR3 = Node(\"Insufficient insertion depth of the protective tube\", parent=Cons_Risk)\n",
        "BR4 = Node(\"The seam of the protective tube is not dense\", parent=Cons_Risk)\n",
        "BR5 = Node(\"The protective tube is inclined and leaking\", parent=Cons_Risk)\n",
        "BR6 = Node(\"Unstable water head in the protection tube\", parent=Cons_Risk)\n",
        "BR7 = Node(\"Borehole collapse\", parent=Cons_Risk)\n",
        "BR8 = Node(\"Bore hole tilt\", parent=Cons_Risk)\n",
        "BR9 = Node(\"Reaming or shrinking\", parent=Cons_Risk)\n",
        "BR10 = Node(\"Hole leakage\", parent=Cons_Risk)\n",
        "BR11 = Node(\"The rig is malfunctioning\", parent=Cons_Risk)\n",
        "BR12 = Node(\"Collapse when clearing the hole\", parent=Cons_Risk)\n",
        "BR13 = Node(\"The thickness of the sediment does not meet requirements\", parent=Cons_Risk)\n",
        "BR14 = Node(\"Skeleton deformation\", parent=Cons_Risk)\n",
        "BR15 = Node(\"The skeleton collides with the hole wall when lifting\", parent=Cons_Risk)\n",
        "BR16 = Node(\"Unqualified welding quality\", parent=Cons_Risk)\n",
        "BR17 = Node(\"The skeleton elevation does not meet the requirements\", parent=Cons_Risk)\n",
        "BR18 = Node(\"Collapse during pouring\", parent=Cons_Risk)\n",
        "BR19 = Node(\"Pipe stuck\", parent=Cons_Risk)\n",
        "BR20 = Node(\"Piles broken\", parent=Cons_Risk)\n",
        "BR21 = Node(\"Pile body concrete enters mud\", parent=Cons_Risk)\n",
        "BR22 = Node(\"Leakage and deviation of reinforcement skeleton\", parent=Cons_Risk)\n",
        "BR23 = Node(\"Airbag destruction\", parent=Cons_Risk)\n",
        "BR24 = Node(\"Bottom compartment tilted\", parent=Cons_Risk)\n",
        "BR25 = Node(\"Pull rope decoupling\", parent=Cons_Risk)\n",
        "BR26 = Node(\"Inaccuracy of lowering large tonnage steel cofferdam\", parent=Cons_Risk)\n",
        "BR27 = Node(\"Large tensile stress on the bottom\", parent=Cons_Risk)\n",
        "BR28 = Node(\"Cooling pipe clogging\", parent=Cons_Risk)\n",
        "BR29 = Node(\"Mixing ratio leads to excessive hydration heat\", parent=Cons_Risk)\n",
        "BR30 = Node(\"Environment temperature is too high\", parent=Cons_Risk)\n",
        "BR31 = Node(\"Moisturizing work is not in time\", parent=Cons_Risk)\n",
        "\n",
        "BR32 = Node(\"Material Shortage\", parent=ME_Risk)\n",
        "BR33 = Node(\"Material Error on form, function and specification\", parent=ME_Risk)\n",
        "BR34 = Node(\"Delay of Material Supply\", parent=ME_Risk)\n",
        "BR35 = Node(\"Material Damage in Storage\", parent=ME_Risk)\n",
        "BR36 = Node(\"Material Scarcity\", parent=ME_Risk)\n",
        "BR37 = Node(\"Delay of Equipment\", parent=ME_Risk)\n",
        "BR38 = Node(\"Equipment Damage\", parent=ME_Risk)\n",
        "BR39 = Node(\"Equipment Shortage\", parent=ME_Risk)\n",
        "BR40 = Node(\"Less equipment Productivity\", parent=ME_Risk)\n",
        "\n",
        "BR41 = Node(\"Lack of safety equipment for workers\", parent=CM_Risk)\n",
        "BR42 = Node(\"Poor site management\", parent=CM_Risk)\n",
        "BR43 = Node(\"Availability camp for labours\", parent=CM_Risk)\n",
        "BR44 = Node(\"There no regular material test for materials in the project site\", parent=CM_Risk)\n",
        "BR45 = Node(\"Regular inspection of the site\", parent=CM_Risk)\n",
        "BR46 = Node(\"No past experience in similar project\", parent=CM_Risk)\n",
        "BR47 = Node(\"Incomplete knowledge about equipment\", parent=CM_Risk)\n",
        "BR48 = Node(\"Unexpected weather condition\", parent=CM_Risk)\n",
        "BR49 = Node(\"Inspection for safety equipment\", parent=CM_Risk)\n",
        "BR50 = Node(\"Change of top management\", parent=CM_Risk)\n",
        "BR51 = Node(\"Heavy equipment are not maintained periodically\", parent=CM_Risk)\n",
        "BR52 = Node(\"Inventory storage\", parent=CM_Risk)\n",
        "BR53 = Node(\"Strike and theft\", parent=CM_Risk)\n",
        "BR54 = Node(\"Dispute between labours\", parent=CM_Risk)\n",
        "BR55 = Node(\"Traffic of large vehicles during construction\", parent=CM_Risk)\n",
        "BR56 = Node(\"Many modifications on design are made during execution\", parent=CM_Risk)\n",
        "\n",
        "BR57 = Node(\"Staff do not have sufficient knowledge about the design\", parent=D_Risk)\n",
        "BR58 = Node(\"Design agencies are not monitored\", parent=D_Risk)\n",
        "BR59 = Node(\"Dispute between owner and design team\", parent=D_Risk)\n",
        "BR60 = Node(\"Plans of design are incompatible with execution\", parent=D_Risk)\n",
        "BR61 = Node(\"The designer does not follow up design and changes made on them\", parent=D_Risk)\n",
        "BR62 = Node(\"Unavailability of land and right of way that restricts access to the site\", parent=D_Risk)\n",
        "BR63 = Node(\"Design Changes\", parent=D_Risk)\n",
        "BR64 = Node(\"Design Variation\", parent=D_Risk)\n",
        "BR65 = Node(\"Error in Design by Planner\", parent=D_Risk)\n",
        "BR66 = Node(\"Error in drawing/specification\", parent=D_Risk)\n",
        "BR67 = Node(\"Unclear information on the scope of work at the time of job description\", parent=D_Risk)\n",
        "\n",
        "BR68 = Node(\"Fluctuation price in materials\", parent=Ins_Risk)\n",
        "BR69 = Node(\"The company obtain large loans\", parent=Ins_Risk)\n",
        "\n",
        "BR70 = Node(\"Non-payment of taxes\", parent=Cont_Risk)\n",
        "BR71 = Node(\"The owner lags behind in paying the contractors\", parent=Cont_Risk)\n",
        "BR72 = Node(\"Low level of capability of contractor\", parent=Cont_Risk)\n",
        "BR73 = Node(\"Improper verification of contract document\", parent=Cont_Risk)\n",
        "BR74 = Node(\"Change in project scope and change orders\", parent=Cont_Risk)\n",
        "BR75 = Node(\"Contactor anomalies\", parent=Cont_Risk)\n",
        "\n",
        "PM_Risk = Node(\"Project Managament Risks\", parent=I_Risk)\n",
        "BR76 = Node(\"Conflict between contactor and management team\", parent=PM_Risk)\n",
        "BR77 = Node(\"Lack of coordination\", parent=PM_Risk)\n",
        "BR78 = Node(\"Delay in approval from regulatory bodies\", parent=PM_Risk)\n",
        "BR79 = Node(\"Dispute\", parent=PM_Risk)\n",
        "BR80 = Node(\"Inadequate project information (soil test and survey report)\", parent=PM_Risk)\n",
        "BR81 = Node(\"Error in choosing implementation methodn\", parent=PM_Risk)\n",
        "BR82 = Node(\"Strict project schedule\", parent=PM_Risk)\n",
        "BR83 = Node(\"Poor program scheduling\", parent=PM_Risk)\n",
        "BR84 = Node(\"Delay during construction process\", parent=PM_Risk)\n",
        "BR85 = Node(\"Many work errors require rework\", parent=PM_Risk)\n",
        "BR86 = Node(\"Poor surveillance and site management\", parent=PM_Risk)\n",
        "BR87 = Node(\"Subcontractor failure\", parent=PM_Risk)\n",
        "BR88 = Node(\"Unstable government policies\", parent=PM_Risk)\n",
        "\n",
        "BR89 = Node(\"Political instability\", parent=TM_Risk)\n",
        "BR90 = Node(\"Delay during construction process\", parent=TM_Risk)\n",
        "BR91 = Node(\"Casting and curing time is more\", parent=TM_Risk)\n",
        "BR92 = Node(\"Release of funds takes time\", parent=TM_Risk)\n",
        "BR93 = Node(\"Long distance between procurement and project site\", parent=TM_Risk)\n",
        "BR94 = Node(\"Working hours of labours are enough\", parent=TM_Risk)\n",
        "BR95 = Node(\"Long distance between batching plant and site\", parent=TM_Risk)\n",
        "\n",
        "BR96 = Node(\"Less professional\", parent=HR_Risk)\n",
        "BR97 = Node(\"Less labor\", parent=HR_Risk)\n",
        "BR98 = Node(\"Low labor ability\", parent=HR_Risk)\n",
        "BR99 = Node(\"Low labor productivity\", parent=HR_Risk)\n",
        "\n",
        "BR100 = Node(\"Earthquake\", parent=Env_Risk)\n",
        "BBR101 = Node(\"Landslide\", parent=Env_Risk)\n",
        "BR102 = Node(\"Bad weather\", parent=Env_Risk)\n",
        "BR103 = Node(\"Late permissions\", parent=Env_Risk)\n",
        "BBR104 = Node(\"A less secure project development environment\", parent=Env_Risk)\n",
        "BR105 = Node(\"Disagreement interests with citizens\", parent=Env_Risk)\n",
        "BBR106 = Node(\"Unstable government policy\", parent=Env_Risk)\n",
        "BR107 = Node(\"Excessive government approval procedures\", parent=Env_Risk)\n",
        "\n",
        "BR108 = Node(\"Inexperience when pricing tenders\", parent=Eco_Risk)\n",
        "BR109 = Node(\"Unrealistic cost estimate and schedules\", parent=Eco_Risk)\n",
        "BR110 = Node(\"The contractors does not pay workers’ wages in due time\", parent=Eco_Risk)\n",
        "BR111 = Node(\"Low credibility of shareholders and lenders\", parent=Eco_Risk)\n",
        "BR112 = Node(\"Inflation\", parent=Eco_Risk)\n",
        "BR113 = Node(\"Financial Failure of the Contractor\", parent=Eco_Risk)\n",
        "BR114 = Node(\"Poor Estimation of Unexpected Cost\", parent=Eco_Risk)\n",
        "BR115 = Node(\"Late Payment\", parent=Eco_Risk)\n",
        "BR116 = Node(\"Loss due to fluctuation of interest rate\", parent=Eco_Risk)"
      ],
      "metadata": {
        "id": "pup_Qcy07SwD"
      },
      "execution_count": 7,
      "outputs": []
    },
    {
      "cell_type": "markdown",
      "metadata": {
        "id": "3ULrvFRsX6Oe"
      },
      "source": [
        "# Experimentation"
      ]
    },
    {
      "cell_type": "code",
      "source": [
        "# Render the Semantic Risk Breakdown Structure (SRBS)\n",
        "print(RenderTree(Bridge_Project_Risk).by_attr())"
      ],
      "metadata": {
        "colab": {
          "base_uri": "https://localhost:8080/"
        },
        "id": "sZbXTN0lSN7P",
        "outputId": "caec402b-e508-439a-caab-27919ebe3204"
      },
      "execution_count": 8,
      "outputs": [
        {
          "output_type": "stream",
          "name": "stdout",
          "text": [
            "Bridge project risks\n",
            "├── Internal Risks\n",
            "│   ├── Construction Risks\n",
            "│   │   ├── Falling to the ground during equipment transportation\n",
            "│   │   ├── Incorrect installation of drill frame\n",
            "│   │   ├── Insufficient insertion depth of the protective tube\n",
            "│   │   ├── The seam of the protective tube is not dense\n",
            "│   │   ├── The protective tube is inclined and leaking\n",
            "│   │   ├── Unstable water head in the protection tube\n",
            "│   │   ├── Borehole collapse\n",
            "│   │   ├── Bore hole tilt\n",
            "│   │   ├── Reaming or shrinking\n",
            "│   │   ├── Hole leakage\n",
            "│   │   ├── The rig is malfunctioning\n",
            "│   │   ├── Collapse when clearing the hole\n",
            "│   │   ├── The thickness of the sediment does not meet requirements\n",
            "│   │   ├── Skeleton deformation\n",
            "│   │   ├── The skeleton collides with the hole wall when lifting\n",
            "│   │   ├── Unqualified welding quality\n",
            "│   │   ├── The skeleton elevation does not meet the requirements\n",
            "│   │   ├── Collapse during pouring\n",
            "│   │   ├── Pipe stuck\n",
            "│   │   ├── Piles broken\n",
            "│   │   ├── Pile body concrete enters mud\n",
            "│   │   ├── Leakage and deviation of reinforcement skeleton\n",
            "│   │   ├── Airbag destruction\n",
            "│   │   ├── Bottom compartment tilted\n",
            "│   │   ├── Pull rope decoupling\n",
            "│   │   ├── Inaccuracy of lowering large tonnage steel cofferdam\n",
            "│   │   ├── Large tensile stress on the bottom\n",
            "│   │   ├── Cooling pipe clogging\n",
            "│   │   ├── Mixing ratio leads to excessive hydration heat\n",
            "│   │   ├── Environment temperature is too high\n",
            "│   │   └── Moisturizing work is not in time\n",
            "│   ├── Materials and Equipment Risks\n",
            "│   │   ├── Material Shortage\n",
            "│   │   ├── Material Error on form, function and specification\n",
            "│   │   ├── Delay of Material Supply\n",
            "│   │   ├── Material Damage in Storage\n",
            "│   │   ├── Material Scarcity\n",
            "│   │   ├── Delay of Equipment\n",
            "│   │   ├── Equipment Damage\n",
            "│   │   ├── Equipment Shortage\n",
            "│   │   └── Less equipment Productivity\n",
            "│   ├── Construction Management Risks\n",
            "│   │   ├── Lack of safety equipment for workers\n",
            "│   │   ├── Poor site management\n",
            "│   │   ├── Availability camp for labours\n",
            "│   │   ├── There no regular material test for materials in the project site\n",
            "│   │   ├── Regular inspection of the site\n",
            "│   │   ├── No past experience in similar project\n",
            "│   │   ├── Incomplete knowledge about equipment\n",
            "│   │   ├── Unexpected weather condition\n",
            "│   │   ├── Inspection for safety equipment\n",
            "│   │   ├── Change of top management\n",
            "│   │   ├── Heavy equipment are not maintained periodically\n",
            "│   │   ├── Inventory storage\n",
            "│   │   ├── Strike and theft\n",
            "│   │   ├── Dispute between labours\n",
            "│   │   ├── Traffic of large vehicles during construction\n",
            "│   │   └── Many modifications on design are made during execution\n",
            "│   ├── Design Risks\n",
            "│   │   ├── Staff do not have sufficient knowledge about the design\n",
            "│   │   ├── Design agencies are not monitored\n",
            "│   │   ├── Dispute between owner and design team\n",
            "│   │   ├── Plans of design are incompatible with execution\n",
            "│   │   ├── The designer does not follow up design and changes made on them\n",
            "│   │   ├── Unavailability of land and right of way that restricts access to the site\n",
            "│   │   ├── Design Changes\n",
            "│   │   ├── Design Variation\n",
            "│   │   ├── Error in Design by Planner\n",
            "│   │   ├── Error in drawing/specification\n",
            "│   │   └── Unclear information on the scope of work at the time of job description\n",
            "│   ├── Insurance Risks\n",
            "│   │   ├── Fluctuation price in materials\n",
            "│   │   └── The company obtain large loans\n",
            "│   ├── Contractual Risks\n",
            "│   │   ├── Non-payment of taxes\n",
            "│   │   ├── The owner lags behind in paying the contractors\n",
            "│   │   ├── Low level of capability of contractor\n",
            "│   │   ├── Improper verification of contract document\n",
            "│   │   ├── Change in project scope and change orders\n",
            "│   │   └── Contactor anomalies\n",
            "│   ├── Project Managament Risks\n",
            "│   ├── Time Management Risks\n",
            "│   │   ├── Political instability\n",
            "│   │   ├── Delay during construction process\n",
            "│   │   ├── Casting and curing time is more\n",
            "│   │   ├── Release of funds takes time\n",
            "│   │   ├── Long distance between procurement and project site\n",
            "│   │   ├── Working hours of labours are enough\n",
            "│   │   └── Long distance between batching plant and site\n",
            "│   ├── Human Resourses\n",
            "│   │   ├── Less professional\n",
            "│   │   ├── Less labor\n",
            "│   │   ├── Low labor ability\n",
            "│   │   └── Low labor productivity\n",
            "│   └── Project Managament Risks\n",
            "│       ├── Conflict between contactor and management team\n",
            "│       ├── Lack of coordination\n",
            "│       ├── Delay in approval from regulatory bodies\n",
            "│       ├── Dispute\n",
            "│       ├── Inadequate project information (soil test and survey report)\n",
            "│       ├── Error in choosing implementation methodn\n",
            "│       ├── Strict project schedule\n",
            "│       ├── Poor program scheduling\n",
            "│       ├── Delay during construction process\n",
            "│       ├── Many work errors require rework\n",
            "│       ├── Poor surveillance and site management\n",
            "│       ├── Subcontractor failure\n",
            "│       └── Unstable government policies\n",
            "└── External Risks\n",
            "    ├── Environmental Risks\n",
            "    │   ├── Earthquake\n",
            "    │   ├── Landslide\n",
            "    │   ├── Bad weather\n",
            "    │   ├── Late permissions\n",
            "    │   ├── A less secure project development environment\n",
            "    │   ├── Disagreement interests with citizens\n",
            "    │   ├── Unstable government policy\n",
            "    │   └── Excessive government approval procedures\n",
            "    └── Economic Risks\n",
            "        ├── Inexperience when pricing tenders\n",
            "        ├── Unrealistic cost estimate and schedules\n",
            "        ├── The contractors does not pay workers’ wages in due time\n",
            "        ├── Low credibility of shareholders and lenders\n",
            "        ├── Inflation\n",
            "        ├── Financial Failure of the Contractor\n",
            "        ├── Poor Estimation of Unexpected Cost\n",
            "        ├── Late Payment\n",
            "        └── Loss due to fluctuation of interest rate\n"
          ]
        }
      ]
    },
    {
      "cell_type": "code",
      "source": [
        "# Render the Internal Risks\n",
        "print(RenderTree(I_Risk).by_attr())"
      ],
      "metadata": {
        "colab": {
          "base_uri": "https://localhost:8080/"
        },
        "id": "M1ne0QoCSN3A",
        "outputId": "0a775b6f-1a5c-4fe5-d5bd-087f5954154f"
      },
      "execution_count": 9,
      "outputs": [
        {
          "output_type": "stream",
          "name": "stdout",
          "text": [
            "Internal Risks\n",
            "├── Construction Risks\n",
            "│   ├── Falling to the ground during equipment transportation\n",
            "│   ├── Incorrect installation of drill frame\n",
            "│   ├── Insufficient insertion depth of the protective tube\n",
            "│   ├── The seam of the protective tube is not dense\n",
            "│   ├── The protective tube is inclined and leaking\n",
            "│   ├── Unstable water head in the protection tube\n",
            "│   ├── Borehole collapse\n",
            "│   ├── Bore hole tilt\n",
            "│   ├── Reaming or shrinking\n",
            "│   ├── Hole leakage\n",
            "│   ├── The rig is malfunctioning\n",
            "│   ├── Collapse when clearing the hole\n",
            "│   ├── The thickness of the sediment does not meet requirements\n",
            "│   ├── Skeleton deformation\n",
            "│   ├── The skeleton collides with the hole wall when lifting\n",
            "│   ├── Unqualified welding quality\n",
            "│   ├── The skeleton elevation does not meet the requirements\n",
            "│   ├── Collapse during pouring\n",
            "│   ├── Pipe stuck\n",
            "│   ├── Piles broken\n",
            "│   ├── Pile body concrete enters mud\n",
            "│   ├── Leakage and deviation of reinforcement skeleton\n",
            "│   ├── Airbag destruction\n",
            "│   ├── Bottom compartment tilted\n",
            "│   ├── Pull rope decoupling\n",
            "│   ├── Inaccuracy of lowering large tonnage steel cofferdam\n",
            "│   ├── Large tensile stress on the bottom\n",
            "│   ├── Cooling pipe clogging\n",
            "│   ├── Mixing ratio leads to excessive hydration heat\n",
            "│   ├── Environment temperature is too high\n",
            "│   └── Moisturizing work is not in time\n",
            "├── Materials and Equipment Risks\n",
            "│   ├── Material Shortage\n",
            "│   ├── Material Error on form, function and specification\n",
            "│   ├── Delay of Material Supply\n",
            "│   ├── Material Damage in Storage\n",
            "│   ├── Material Scarcity\n",
            "│   ├── Delay of Equipment\n",
            "│   ├── Equipment Damage\n",
            "│   ├── Equipment Shortage\n",
            "│   └── Less equipment Productivity\n",
            "├── Construction Management Risks\n",
            "│   ├── Lack of safety equipment for workers\n",
            "│   ├── Poor site management\n",
            "│   ├── Availability camp for labours\n",
            "│   ├── There no regular material test for materials in the project site\n",
            "│   ├── Regular inspection of the site\n",
            "│   ├── No past experience in similar project\n",
            "│   ├── Incomplete knowledge about equipment\n",
            "│   ├── Unexpected weather condition\n",
            "│   ├── Inspection for safety equipment\n",
            "│   ├── Change of top management\n",
            "│   ├── Heavy equipment are not maintained periodically\n",
            "│   ├── Inventory storage\n",
            "│   ├── Strike and theft\n",
            "│   ├── Dispute between labours\n",
            "│   ├── Traffic of large vehicles during construction\n",
            "│   └── Many modifications on design are made during execution\n",
            "├── Design Risks\n",
            "│   ├── Staff do not have sufficient knowledge about the design\n",
            "│   ├── Design agencies are not monitored\n",
            "│   ├── Dispute between owner and design team\n",
            "│   ├── Plans of design are incompatible with execution\n",
            "│   ├── The designer does not follow up design and changes made on them\n",
            "│   ├── Unavailability of land and right of way that restricts access to the site\n",
            "│   ├── Design Changes\n",
            "│   ├── Design Variation\n",
            "│   ├── Error in Design by Planner\n",
            "│   ├── Error in drawing/specification\n",
            "│   └── Unclear information on the scope of work at the time of job description\n",
            "├── Insurance Risks\n",
            "│   ├── Fluctuation price in materials\n",
            "│   └── The company obtain large loans\n",
            "├── Contractual Risks\n",
            "│   ├── Non-payment of taxes\n",
            "│   ├── The owner lags behind in paying the contractors\n",
            "│   ├── Low level of capability of contractor\n",
            "│   ├── Improper verification of contract document\n",
            "│   ├── Change in project scope and change orders\n",
            "│   └── Contactor anomalies\n",
            "├── Project Managament Risks\n",
            "├── Time Management Risks\n",
            "│   ├── Political instability\n",
            "│   ├── Delay during construction process\n",
            "│   ├── Casting and curing time is more\n",
            "│   ├── Release of funds takes time\n",
            "│   ├── Long distance between procurement and project site\n",
            "│   ├── Working hours of labours are enough\n",
            "│   └── Long distance between batching plant and site\n",
            "├── Human Resourses\n",
            "│   ├── Less professional\n",
            "│   ├── Less labor\n",
            "│   ├── Low labor ability\n",
            "│   └── Low labor productivity\n",
            "└── Project Managament Risks\n",
            "    ├── Conflict between contactor and management team\n",
            "    ├── Lack of coordination\n",
            "    ├── Delay in approval from regulatory bodies\n",
            "    ├── Dispute\n",
            "    ├── Inadequate project information (soil test and survey report)\n",
            "    ├── Error in choosing implementation methodn\n",
            "    ├── Strict project schedule\n",
            "    ├── Poor program scheduling\n",
            "    ├── Delay during construction process\n",
            "    ├── Many work errors require rework\n",
            "    ├── Poor surveillance and site management\n",
            "    ├── Subcontractor failure\n",
            "    └── Unstable government policies\n"
          ]
        }
      ]
    },
    {
      "cell_type": "code",
      "source": [
        "# Render the External Risks\n",
        "print(RenderTree(E_Risk).by_attr())"
      ],
      "metadata": {
        "colab": {
          "base_uri": "https://localhost:8080/"
        },
        "id": "EykEWB25S2Uw",
        "outputId": "0f093c67-11e7-4c10-f302-59d637547933"
      },
      "execution_count": 10,
      "outputs": [
        {
          "output_type": "stream",
          "name": "stdout",
          "text": [
            "External Risks\n",
            "├── Environmental Risks\n",
            "│   ├── Earthquake\n",
            "│   ├── Landslide\n",
            "│   ├── Bad weather\n",
            "│   ├── Late permissions\n",
            "│   ├── A less secure project development environment\n",
            "│   ├── Disagreement interests with citizens\n",
            "│   ├── Unstable government policy\n",
            "│   └── Excessive government approval procedures\n",
            "└── Economic Risks\n",
            "    ├── Inexperience when pricing tenders\n",
            "    ├── Unrealistic cost estimate and schedules\n",
            "    ├── The contractors does not pay workers’ wages in due time\n",
            "    ├── Low credibility of shareholders and lenders\n",
            "    ├── Inflation\n",
            "    ├── Financial Failure of the Contractor\n",
            "    ├── Poor Estimation of Unexpected Cost\n",
            "    ├── Late Payment\n",
            "    └── Loss due to fluctuation of interest rate\n"
          ]
        }
      ]
    },
    {
      "cell_type": "code",
      "source": [
        "# Render the Human Resources Risks\n",
        "print(RenderTree(HR_Risk).by_attr(),)"
      ],
      "metadata": {
        "colab": {
          "base_uri": "https://localhost:8080/"
        },
        "id": "H1YfU8GPTctM",
        "outputId": "ae05ef11-faa5-4b30-af10-53eb1398edad"
      },
      "execution_count": 11,
      "outputs": [
        {
          "output_type": "stream",
          "name": "stdout",
          "text": [
            "Human Resourses\n",
            "├── Less professional\n",
            "├── Less labor\n",
            "├── Low labor ability\n",
            "└── Low labor productivity\n"
          ]
        }
      ]
    },
    {
      "cell_type": "code",
      "source": [
        "# Visualization\n",
        "from anytree.exporter import DotExporter\n",
        "# graphviz needs to be installed for the next line!\n",
        "DotExporter(HR_Risk).to_picture(\"HR_Risk.png\")"
      ],
      "metadata": {
        "id": "FHC6JER8j5p_"
      },
      "execution_count": 12,
      "outputs": []
    },
    {
      "cell_type": "code",
      "source": [
        "from anytree import Node\n",
        "from anytree import PreOrderIter, PostOrderIter, LevelOrderIter\n",
        "[node.name for node in PreOrderIter(Bridge_Project_Risk, maxlevel =3)]"
      ],
      "metadata": {
        "colab": {
          "base_uri": "https://localhost:8080/"
        },
        "id": "ZTd2ZRwXoBhy",
        "outputId": "be3ae5ce-7e65-4886-adc9-273d997eeafc"
      },
      "execution_count": 13,
      "outputs": [
        {
          "output_type": "execute_result",
          "data": {
            "text/plain": [
              "['Bridge project risks',\n",
              " 'Internal Risks',\n",
              " 'Construction Risks',\n",
              " 'Materials and Equipment Risks',\n",
              " 'Construction Management Risks',\n",
              " 'Design Risks',\n",
              " 'Insurance Risks',\n",
              " 'Contractual Risks',\n",
              " 'Project Managament Risks',\n",
              " 'Time Management Risks',\n",
              " 'Human Resourses',\n",
              " 'Project Managament Risks',\n",
              " 'External Risks',\n",
              " 'Environmental Risks',\n",
              " 'Economic Risks']"
            ]
          },
          "metadata": {},
          "execution_count": 13
        }
      ]
    },
    {
      "cell_type": "code",
      "source": [
        "# Walking\n",
        "from anytree import Walker\n",
        "W = Walker()"
      ],
      "metadata": {
        "id": "LGf7ywd_pvz7"
      },
      "execution_count": 14,
      "outputs": []
    },
    {
      "cell_type": "code",
      "source": [
        "W.walk(Eco_Risk,BR108)"
      ],
      "metadata": {
        "colab": {
          "base_uri": "https://localhost:8080/"
        },
        "id": "B_T1757Pp_6O",
        "outputId": "de56927c-1962-45dc-ded5-35aeb4046dba"
      },
      "execution_count": 16,
      "outputs": [
        {
          "output_type": "execute_result",
          "data": {
            "text/plain": [
              "((),\n",
              " Node('/Bridge project risks/External Risks/Economic Risks'),\n",
              " (Node('/Bridge project risks/External Risks/Economic Risks/Inexperience when pricing tenders'),))"
            ]
          },
          "metadata": {},
          "execution_count": 16
        }
      ]
    }
  ],
  "metadata": {
    "colab": {
      "name": "Semantic_Risk_Breakdown_Structure1.ipynb",
      "provenance": [],
      "collapsed_sections": []
    },
    "kernelspec": {
      "display_name": "Python 3",
      "language": "python",
      "name": "python3"
    },
    "language_info": {
      "codemirror_mode": {
        "name": "ipython",
        "version": 3
      },
      "file_extension": ".py",
      "mimetype": "text/x-python",
      "name": "python",
      "nbconvert_exporter": "python",
      "pygments_lexer": "ipython3",
      "version": "3.7.10"
    },
    "accelerator": "GPU"
  },
  "nbformat": 4,
  "nbformat_minor": 0
}